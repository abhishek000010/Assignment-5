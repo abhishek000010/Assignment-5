{
 "cells": [
  {
   "cell_type": "code",
   "execution_count": null,
   "id": "2562a8e4-8ed6-4ef7-85bf-2a66890a545a",
   "metadata": {},
   "outputs": [],
   "source": [
    "Q1 -> Create a python program to sort the given list of tuples based on integer value using a\n",
    "lambda function.\n",
    "\n",
    "Ans -> tuples_list = [('Sachin Tendulkar', 34357), ('Ricky Ponting', 27483), ('Jack Kallis', 25534), ('Virat Kohli', 24936)]\n",
    "    sort_list = sorted(tuples_list , key = lambda x : x[1])\n",
    "    print(sort_list)"
   ]
  },
  {
   "cell_type": "code",
   "execution_count": null,
   "id": "ad98ff50-5361-44a9-9dfb-03412ed310d7",
   "metadata": {},
   "outputs": [],
   "source": [
    "Q2 -> Write a Python Program to find the squares of all the numbers in the given list of integers using\n",
    "lambda and map functions.\n",
    "\n",
    "Ans -> num = [1,2,3,4,5,6,7,8,9,10]\n",
    "       square_num = list(map(lambda x: x**2 , num))\n",
    "       print(square_num)"
   ]
  },
  {
   "cell_type": "code",
   "execution_count": null,
   "id": "b3df9586-6e0c-451d-83ca-e8972d57ecc4",
   "metadata": {},
   "outputs": [],
   "source": [
    "Q3 -> Write a python program to convert the given list of integers into a tuple of strings. Use map and\n",
    "lambda functions\n",
    "\n",
    "Ans -> l1 =  [1, 2, 3, 4, 5, 6, 7, 8, 9, 10]\n",
    "tup = tuple(map(lambda x: str(x) , l1))\n",
    "print(tup)"
   ]
  },
  {
   "cell_type": "code",
   "execution_count": null,
   "id": "f868d265-77ff-4e66-8164-e65bcba7ee77",
   "metadata": {},
   "outputs": [],
   "source": [
    "Q4-> Write a python program using reduce function to compute the product of a list containing numbers\n",
    "from 1 to 25.\n",
    "\n",
    "Ans ->\n",
    "import functools\n",
    "l1 = list(range(1 , 25))\n",
    "l1\n",
    "prod = functools.reduce(lamda x , y : x * y  , l1)\n",
    "print(prod)\n"
   ]
  },
  {
   "cell_type": "code",
   "execution_count": null,
   "id": "aa9d03f0-facd-4cbc-a108-0da7273eec8e",
   "metadata": {},
   "outputs": [],
   "source": [
    "Q5 -> Write a python program to filter the numbers in a given list that are divisible by 2 and 3 using the\n",
    "filter function.\n",
    "\n",
    "Ans -> z = [2, 3, 6, 9, 27, 60, 90, 120, 55, 46]\n",
    "div = list(filter(lambda x: x % 2 == 0 and x % 3 == 0 , z ))\n",
    "print(div)"
   ]
  },
  {
   "cell_type": "code",
   "execution_count": null,
   "id": "2596248d-d066-4c7f-894b-6d5f414a47e2",
   "metadata": {},
   "outputs": [],
   "source": [
    "Q6 -> Write a python program to find palindromes in the given list of strings using lambda and filter\n",
    "function.\n",
    "\n",
    "Ans -> string =['python', 'php', 'aba', 'radar', 'level']\n",
    "       pali_list = list(filter(lambda x : x == x[::-1] , string))\n",
    "       print(pali_list) "
   ]
  }
 ],
 "metadata": {
  "kernelspec": {
   "display_name": "Python 3 (ipykernel)",
   "language": "python",
   "name": "python3"
  },
  "language_info": {
   "codemirror_mode": {
    "name": "ipython",
    "version": 3
   },
   "file_extension": ".py",
   "mimetype": "text/x-python",
   "name": "python",
   "nbconvert_exporter": "python",
   "pygments_lexer": "ipython3",
   "version": "3.10.8"
  }
 },
 "nbformat": 4,
 "nbformat_minor": 5
}
